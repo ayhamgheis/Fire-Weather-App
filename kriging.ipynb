var = ['AirTemperature','RelativeHumidity','WindSpeed', 'Rain']
for i in var:
    lons = np.array(data['Stn_long'])
    lats = np.array(data['Stn_lat'])
    zdata = np.array(data[i])

    ymin = 48.44-0.01
    ymax = 48.65+0.01

    xmin = -123.85-0.01
    xmax = -123.55+0.01

    grid_lon = np.linspace(xmin, xmax, 75)
    grid_lat = np.linspace(ymin, ymax, 75)

    OK = OrdinaryKriging(lons, lats, zdata, variogram_model='linear', verbose=True, enable_plotting=False,nlags=20)
    z1, ss1 = OK.execute('grid', grid_lon, grid_lat)
    #print (z1)

    xintrp, yintrp = np.meshgrid(grid_lon, grid_lat) 
    fig, ax = plt.subplots(figsize=(15,15))


    #ax.scatter(lons, lats, s=len(lons), label='Input data')

    contour = plt.contourf(xintrp, yintrp, z1,len(z1),cmap=plt.cm.jet,alpha = 0.8) 


    plt.colorbar(contour)




    npts = len(lons)

    plt.scatter(lons, lats,marker='o',c='k', s = 25)


    plt.xticks(fontsize = 30, rotation=60)
    plt.yticks(fontsize = 30)

    #Tempreture
    plt.title(f'Spatial interpolation from {i} with gaussian {npts} points)',fontsize = 40)
    plt.show()
