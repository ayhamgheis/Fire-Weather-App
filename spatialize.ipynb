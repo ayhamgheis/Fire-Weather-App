{
 "cells": [
  {
   "cell_type": "markdown",
   "metadata": {
    "id": "Apa3Kg7ojVAx"
   },
   "source": [
    "# **Create spatial data, web map it, reproject it and export it with Python**"
   ]
  },
  {
   "cell_type": "markdown",
   "metadata": {
    "id": "FeePUubmmG6v"
   },
   "source": [
    "## **Create a spatial point layer from coordinates in a .csv file**\n",
    "\n",
    "\n",
    "Import the pandas library as pd and also the geopandas library:"
   ]
  },
  {
   "cell_type": "code",
   "execution_count": 1,
   "metadata": {
    "id": "OpNyTxkXmHE8"
   },
   "outputs": [],
   "source": [
    "import pandas as pd\n",
    "import geopandas"
   ]
  },
  {
   "cell_type": "markdown",
   "metadata": {
    "id": "A7E0BAyfmnuu"
   },
   "source": [
    "Read in a .csv file with pandas' `read_csv()` function entering the name of the file (.csv):"
   ]
  },
  {
   "cell_type": "code",
   "execution_count": 2,
   "metadata": {},
   "outputs": [],
   "source": [
    "infile = input(\"input merged file: \")\n",
    "xy_table = pd.read_csv(infile)"
   ]
  },
  {
   "cell_type": "markdown",
   "metadata": {
    "id": "_X1d-LMUm3Lm"
   },
   "source": [
    "The `xy_table` DataFrame has two columns with x- and y-coordinates ('Stn_long' and 'Stn_lat', respectively):"
   ]
  },
  {
   "cell_type": "code",
   "execution_count": 3,
   "metadata": {
    "id": "tuEr1kctm3Ts"
   },
   "outputs": [
    {
     "data": {
      "text/html": [
       "<div>\n",
       "<style scoped>\n",
       "    .dataframe tbody tr th:only-of-type {\n",
       "        vertical-align: middle;\n",
       "    }\n",
       "\n",
       "    .dataframe tbody tr th {\n",
       "        vertical-align: top;\n",
       "    }\n",
       "\n",
       "    .dataframe thead th {\n",
       "        text-align: right;\n",
       "    }\n",
       "</style>\n",
       "<table border=\"1\" class=\"dataframe\">\n",
       "  <thead>\n",
       "    <tr style=\"text-align: right;\">\n",
       "      <th></th>\n",
       "      <th>RecordID</th>\n",
       "      <th>StationName</th>\n",
       "      <th>DateTime</th>\n",
       "      <th>DateTimeString</th>\n",
       "      <th>Rain</th>\n",
       "      <th>Precipitation</th>\n",
       "      <th>AirTemperature</th>\n",
       "      <th>RelativeHumidity</th>\n",
       "      <th>WindSpeed</th>\n",
       "      <th>WindDirection</th>\n",
       "      <th>...</th>\n",
       "      <th>MFuel</th>\n",
       "      <th>TFuel</th>\n",
       "      <th>Rn_1</th>\n",
       "      <th>Wspd_1</th>\n",
       "      <th>Mx_Dir</th>\n",
       "      <th>Mx_Spd</th>\n",
       "      <th>TMax</th>\n",
       "      <th>TMin</th>\n",
       "      <th>RhMax</th>\n",
       "      <th>RhMin</th>\n",
       "    </tr>\n",
       "  </thead>\n",
       "  <tbody>\n",
       "    <tr>\n",
       "      <th>0</th>\n",
       "      <td>14G+20221031220000</td>\n",
       "      <td>14g</td>\n",
       "      <td>44865.91667</td>\n",
       "      <td>2.022100e+13</td>\n",
       "      <td>0.0</td>\n",
       "      <td>0.0</td>\n",
       "      <td>2.7</td>\n",
       "      <td>96</td>\n",
       "      <td>9.6</td>\n",
       "      <td>320</td>\n",
       "      <td>...</td>\n",
       "      <td>NaN</td>\n",
       "      <td>NaN</td>\n",
       "      <td>NaN</td>\n",
       "      <td>NaN</td>\n",
       "      <td>NaN</td>\n",
       "      <td>NaN</td>\n",
       "      <td>NaN</td>\n",
       "      <td>NaN</td>\n",
       "      <td>NaN</td>\n",
       "      <td>NaN</td>\n",
       "    </tr>\n",
       "    <tr>\n",
       "      <th>1</th>\n",
       "      <td>31N+20221031220000</td>\n",
       "      <td>31n</td>\n",
       "      <td>44865.91667</td>\n",
       "      <td>2.022100e+13</td>\n",
       "      <td>0.0</td>\n",
       "      <td>-9999.0</td>\n",
       "      <td>1.2</td>\n",
       "      <td>98</td>\n",
       "      <td>16.4</td>\n",
       "      <td>236</td>\n",
       "      <td>...</td>\n",
       "      <td>NaN</td>\n",
       "      <td>NaN</td>\n",
       "      <td>NaN</td>\n",
       "      <td>NaN</td>\n",
       "      <td>NaN</td>\n",
       "      <td>NaN</td>\n",
       "      <td>NaN</td>\n",
       "      <td>NaN</td>\n",
       "      <td>NaN</td>\n",
       "      <td>NaN</td>\n",
       "    </tr>\n",
       "    <tr>\n",
       "      <th>2</th>\n",
       "      <td>4RW6+20221031220000</td>\n",
       "      <td>4rw6</td>\n",
       "      <td>44865.91667</td>\n",
       "      <td>2.022100e+13</td>\n",
       "      <td>0.0</td>\n",
       "      <td>-0.1</td>\n",
       "      <td>1.9</td>\n",
       "      <td>79</td>\n",
       "      <td>16.8</td>\n",
       "      <td>231</td>\n",
       "      <td>...</td>\n",
       "      <td>NaN</td>\n",
       "      <td>NaN</td>\n",
       "      <td>NaN</td>\n",
       "      <td>NaN</td>\n",
       "      <td>NaN</td>\n",
       "      <td>NaN</td>\n",
       "      <td>NaN</td>\n",
       "      <td>NaN</td>\n",
       "      <td>NaN</td>\n",
       "      <td>NaN</td>\n",
       "    </tr>\n",
       "    <tr>\n",
       "      <th>3</th>\n",
       "      <td>Chris_Creek+20221031220000</td>\n",
       "      <td>chris_creek</td>\n",
       "      <td>44865.91667</td>\n",
       "      <td>2.022100e+13</td>\n",
       "      <td>0.0</td>\n",
       "      <td>-0.1</td>\n",
       "      <td>-0.3</td>\n",
       "      <td>98</td>\n",
       "      <td>5.3</td>\n",
       "      <td>48</td>\n",
       "      <td>...</td>\n",
       "      <td>NaN</td>\n",
       "      <td>NaN</td>\n",
       "      <td>NaN</td>\n",
       "      <td>NaN</td>\n",
       "      <td>NaN</td>\n",
       "      <td>NaN</td>\n",
       "      <td>NaN</td>\n",
       "      <td>NaN</td>\n",
       "      <td>NaN</td>\n",
       "      <td>NaN</td>\n",
       "    </tr>\n",
       "    <tr>\n",
       "      <th>4</th>\n",
       "      <td>Martins_Gulch+20221031220000</td>\n",
       "      <td>martins_gulch</td>\n",
       "      <td>44865.91667</td>\n",
       "      <td>2.022100e+13</td>\n",
       "      <td>0.0</td>\n",
       "      <td>0.0</td>\n",
       "      <td>2.1</td>\n",
       "      <td>92</td>\n",
       "      <td>7.8</td>\n",
       "      <td>264</td>\n",
       "      <td>...</td>\n",
       "      <td>NaN</td>\n",
       "      <td>NaN</td>\n",
       "      <td>NaN</td>\n",
       "      <td>NaN</td>\n",
       "      <td>NaN</td>\n",
       "      <td>NaN</td>\n",
       "      <td>NaN</td>\n",
       "      <td>NaN</td>\n",
       "      <td>NaN</td>\n",
       "      <td>NaN</td>\n",
       "    </tr>\n",
       "  </tbody>\n",
       "</table>\n",
       "<p>5 rows × 36 columns</p>\n",
       "</div>"
      ],
      "text/plain": [
       "                       RecordID    StationName     DateTime  DateTimeString  \\\n",
       "0            14G+20221031220000            14g  44865.91667    2.022100e+13   \n",
       "1            31N+20221031220000            31n  44865.91667    2.022100e+13   \n",
       "2           4RW6+20221031220000           4rw6  44865.91667    2.022100e+13   \n",
       "3    Chris_Creek+20221031220000    chris_creek  44865.91667    2.022100e+13   \n",
       "4  Martins_Gulch+20221031220000  martins_gulch  44865.91667    2.022100e+13   \n",
       "\n",
       "   Rain  Precipitation  AirTemperature  RelativeHumidity  WindSpeed  \\\n",
       "0   0.0            0.0             2.7                96        9.6   \n",
       "1   0.0        -9999.0             1.2                98       16.4   \n",
       "2   0.0           -0.1             1.9                79       16.8   \n",
       "3   0.0           -0.1            -0.3                98        5.3   \n",
       "4   0.0            0.0             2.1                92        7.8   \n",
       "\n",
       "   WindDirection  ...  MFuel  TFuel  Rn_1  Wspd_1  Mx_Dir  Mx_Spd  TMax  TMin  \\\n",
       "0            320  ...    NaN    NaN   NaN     NaN     NaN     NaN   NaN   NaN   \n",
       "1            236  ...    NaN    NaN   NaN     NaN     NaN     NaN   NaN   NaN   \n",
       "2            231  ...    NaN    NaN   NaN     NaN     NaN     NaN   NaN   NaN   \n",
       "3             48  ...    NaN    NaN   NaN     NaN     NaN     NaN   NaN   NaN   \n",
       "4            264  ...    NaN    NaN   NaN     NaN     NaN     NaN   NaN   NaN   \n",
       "\n",
       "   RhMax  RhMin  \n",
       "0    NaN    NaN  \n",
       "1    NaN    NaN  \n",
       "2    NaN    NaN  \n",
       "3    NaN    NaN  \n",
       "4    NaN    NaN  \n",
       "\n",
       "[5 rows x 36 columns]"
      ]
     },
     "execution_count": 3,
     "metadata": {},
     "output_type": "execute_result"
    }
   ],
   "source": [
    "xy_table.head()"
   ]
  },
  {
   "cell_type": "markdown",
   "metadata": {},
   "source": []
  },
  {
   "cell_type": "markdown",
   "metadata": {
    "id": "teykKXnjpLWl"
   },
   "source": [
    "To create a points layer from the `xy_table` first put the coordinate values together in one column ('coordinates'):\n",
    "\n",
    "* Select the 'Stn_long' and 'Stn_lat' columns from `xy_table`\n",
    "* Extract the `values` from the two columns as an array \n",
    "* Convert the values array to list"
   ]
  },
  {
   "cell_type": "code",
   "execution_count": 4,
   "metadata": {
    "id": "6BiXMHXDpRWm"
   },
   "outputs": [
    {
     "data": {
      "text/html": [
       "<div>\n",
       "<style scoped>\n",
       "    .dataframe tbody tr th:only-of-type {\n",
       "        vertical-align: middle;\n",
       "    }\n",
       "\n",
       "    .dataframe tbody tr th {\n",
       "        vertical-align: top;\n",
       "    }\n",
       "\n",
       "    .dataframe thead th {\n",
       "        text-align: right;\n",
       "    }\n",
       "</style>\n",
       "<table border=\"1\" class=\"dataframe\">\n",
       "  <thead>\n",
       "    <tr style=\"text-align: right;\">\n",
       "      <th></th>\n",
       "      <th>RecordID</th>\n",
       "      <th>StationName</th>\n",
       "      <th>DateTime</th>\n",
       "      <th>DateTimeString</th>\n",
       "      <th>Rain</th>\n",
       "      <th>Precipitation</th>\n",
       "      <th>AirTemperature</th>\n",
       "      <th>RelativeHumidity</th>\n",
       "      <th>WindSpeed</th>\n",
       "      <th>WindDirection</th>\n",
       "      <th>...</th>\n",
       "      <th>TFuel</th>\n",
       "      <th>Rn_1</th>\n",
       "      <th>Wspd_1</th>\n",
       "      <th>Mx_Dir</th>\n",
       "      <th>Mx_Spd</th>\n",
       "      <th>TMax</th>\n",
       "      <th>TMin</th>\n",
       "      <th>RhMax</th>\n",
       "      <th>RhMin</th>\n",
       "      <th>coordinates</th>\n",
       "    </tr>\n",
       "  </thead>\n",
       "  <tbody>\n",
       "    <tr>\n",
       "      <th>0</th>\n",
       "      <td>14G+20221031220000</td>\n",
       "      <td>14g</td>\n",
       "      <td>44865.91667</td>\n",
       "      <td>2.022100e+13</td>\n",
       "      <td>0.0</td>\n",
       "      <td>0.0</td>\n",
       "      <td>2.7</td>\n",
       "      <td>96</td>\n",
       "      <td>9.6</td>\n",
       "      <td>320</td>\n",
       "      <td>...</td>\n",
       "      <td>NaN</td>\n",
       "      <td>NaN</td>\n",
       "      <td>NaN</td>\n",
       "      <td>NaN</td>\n",
       "      <td>NaN</td>\n",
       "      <td>NaN</td>\n",
       "      <td>NaN</td>\n",
       "      <td>NaN</td>\n",
       "      <td>NaN</td>\n",
       "      <td>[-123.614722, 48.494167]</td>\n",
       "    </tr>\n",
       "    <tr>\n",
       "      <th>1</th>\n",
       "      <td>31N+20221031220000</td>\n",
       "      <td>31n</td>\n",
       "      <td>44865.91667</td>\n",
       "      <td>2.022100e+13</td>\n",
       "      <td>0.0</td>\n",
       "      <td>-9999.0</td>\n",
       "      <td>1.2</td>\n",
       "      <td>98</td>\n",
       "      <td>16.4</td>\n",
       "      <td>236</td>\n",
       "      <td>...</td>\n",
       "      <td>NaN</td>\n",
       "      <td>NaN</td>\n",
       "      <td>NaN</td>\n",
       "      <td>NaN</td>\n",
       "      <td>NaN</td>\n",
       "      <td>NaN</td>\n",
       "      <td>NaN</td>\n",
       "      <td>NaN</td>\n",
       "      <td>NaN</td>\n",
       "      <td>[-123.63861100000001, 48.52944]</td>\n",
       "    </tr>\n",
       "    <tr>\n",
       "      <th>2</th>\n",
       "      <td>4RW6+20221031220000</td>\n",
       "      <td>4rw6</td>\n",
       "      <td>44865.91667</td>\n",
       "      <td>2.022100e+13</td>\n",
       "      <td>0.0</td>\n",
       "      <td>-0.1</td>\n",
       "      <td>1.9</td>\n",
       "      <td>79</td>\n",
       "      <td>16.8</td>\n",
       "      <td>231</td>\n",
       "      <td>...</td>\n",
       "      <td>NaN</td>\n",
       "      <td>NaN</td>\n",
       "      <td>NaN</td>\n",
       "      <td>NaN</td>\n",
       "      <td>NaN</td>\n",
       "      <td>NaN</td>\n",
       "      <td>NaN</td>\n",
       "      <td>NaN</td>\n",
       "      <td>NaN</td>\n",
       "      <td>[-123.75111100000001, 48.585833]</td>\n",
       "    </tr>\n",
       "    <tr>\n",
       "      <th>3</th>\n",
       "      <td>Chris_Creek+20221031220000</td>\n",
       "      <td>chris_creek</td>\n",
       "      <td>44865.91667</td>\n",
       "      <td>2.022100e+13</td>\n",
       "      <td>0.0</td>\n",
       "      <td>-0.1</td>\n",
       "      <td>-0.3</td>\n",
       "      <td>98</td>\n",
       "      <td>5.3</td>\n",
       "      <td>48</td>\n",
       "      <td>...</td>\n",
       "      <td>NaN</td>\n",
       "      <td>NaN</td>\n",
       "      <td>NaN</td>\n",
       "      <td>NaN</td>\n",
       "      <td>NaN</td>\n",
       "      <td>NaN</td>\n",
       "      <td>NaN</td>\n",
       "      <td>NaN</td>\n",
       "      <td>NaN</td>\n",
       "      <td>[-123.840556, 48.580278]</td>\n",
       "    </tr>\n",
       "    <tr>\n",
       "      <th>4</th>\n",
       "      <td>Martins_Gulch+20221031220000</td>\n",
       "      <td>martins_gulch</td>\n",
       "      <td>44865.91667</td>\n",
       "      <td>2.022100e+13</td>\n",
       "      <td>0.0</td>\n",
       "      <td>0.0</td>\n",
       "      <td>2.1</td>\n",
       "      <td>92</td>\n",
       "      <td>7.8</td>\n",
       "      <td>264</td>\n",
       "      <td>...</td>\n",
       "      <td>NaN</td>\n",
       "      <td>NaN</td>\n",
       "      <td>NaN</td>\n",
       "      <td>NaN</td>\n",
       "      <td>NaN</td>\n",
       "      <td>NaN</td>\n",
       "      <td>NaN</td>\n",
       "      <td>NaN</td>\n",
       "      <td>NaN</td>\n",
       "      <td>[-123.76443799999998, 48.51616]</td>\n",
       "    </tr>\n",
       "  </tbody>\n",
       "</table>\n",
       "<p>5 rows × 37 columns</p>\n",
       "</div>"
      ],
      "text/plain": [
       "                       RecordID    StationName     DateTime  DateTimeString  \\\n",
       "0            14G+20221031220000            14g  44865.91667    2.022100e+13   \n",
       "1            31N+20221031220000            31n  44865.91667    2.022100e+13   \n",
       "2           4RW6+20221031220000           4rw6  44865.91667    2.022100e+13   \n",
       "3    Chris_Creek+20221031220000    chris_creek  44865.91667    2.022100e+13   \n",
       "4  Martins_Gulch+20221031220000  martins_gulch  44865.91667    2.022100e+13   \n",
       "\n",
       "   Rain  Precipitation  AirTemperature  RelativeHumidity  WindSpeed  \\\n",
       "0   0.0            0.0             2.7                96        9.6   \n",
       "1   0.0        -9999.0             1.2                98       16.4   \n",
       "2   0.0           -0.1             1.9                79       16.8   \n",
       "3   0.0           -0.1            -0.3                98        5.3   \n",
       "4   0.0            0.0             2.1                92        7.8   \n",
       "\n",
       "   WindDirection  ...  TFuel  Rn_1  Wspd_1  Mx_Dir  Mx_Spd  TMax  TMin  RhMax  \\\n",
       "0            320  ...    NaN   NaN     NaN     NaN     NaN   NaN   NaN    NaN   \n",
       "1            236  ...    NaN   NaN     NaN     NaN     NaN   NaN   NaN    NaN   \n",
       "2            231  ...    NaN   NaN     NaN     NaN     NaN   NaN   NaN    NaN   \n",
       "3             48  ...    NaN   NaN     NaN     NaN     NaN   NaN   NaN    NaN   \n",
       "4            264  ...    NaN   NaN     NaN     NaN     NaN   NaN   NaN    NaN   \n",
       "\n",
       "   RhMin                       coordinates  \n",
       "0    NaN          [-123.614722, 48.494167]  \n",
       "1    NaN   [-123.63861100000001, 48.52944]  \n",
       "2    NaN  [-123.75111100000001, 48.585833]  \n",
       "3    NaN          [-123.840556, 48.580278]  \n",
       "4    NaN   [-123.76443799999998, 48.51616]  \n",
       "\n",
       "[5 rows x 37 columns]"
      ]
     },
     "execution_count": 4,
     "metadata": {},
     "output_type": "execute_result"
    }
   ],
   "source": [
    "xy_table['coordinates'] = xy_table[['Stn_long', 'Stn_lat']].values.tolist()\n",
    "xy_table.head()"
   ]
  },
  {
   "cell_type": "markdown",
   "metadata": {
    "id": "qmh-hB41pReb"
   },
   "source": [
    "Change each record in the 'coordinates' column in `xy_table` to class Point:\n",
    "*  Import the Point class from the geometry module in the shapely library\n",
    "*  Then run `apply()` to change the coordinates to class Point"
   ]
  },
  {
   "cell_type": "code",
   "execution_count": 5,
   "metadata": {
    "id": "ZtzpKMgxpLi_"
   },
   "outputs": [
    {
     "data": {
      "text/html": [
       "<div>\n",
       "<style scoped>\n",
       "    .dataframe tbody tr th:only-of-type {\n",
       "        vertical-align: middle;\n",
       "    }\n",
       "\n",
       "    .dataframe tbody tr th {\n",
       "        vertical-align: top;\n",
       "    }\n",
       "\n",
       "    .dataframe thead th {\n",
       "        text-align: right;\n",
       "    }\n",
       "</style>\n",
       "<table border=\"1\" class=\"dataframe\">\n",
       "  <thead>\n",
       "    <tr style=\"text-align: right;\">\n",
       "      <th></th>\n",
       "      <th>RecordID</th>\n",
       "      <th>StationName</th>\n",
       "      <th>DateTime</th>\n",
       "      <th>DateTimeString</th>\n",
       "      <th>Rain</th>\n",
       "      <th>Precipitation</th>\n",
       "      <th>AirTemperature</th>\n",
       "      <th>RelativeHumidity</th>\n",
       "      <th>WindSpeed</th>\n",
       "      <th>WindDirection</th>\n",
       "      <th>...</th>\n",
       "      <th>TFuel</th>\n",
       "      <th>Rn_1</th>\n",
       "      <th>Wspd_1</th>\n",
       "      <th>Mx_Dir</th>\n",
       "      <th>Mx_Spd</th>\n",
       "      <th>TMax</th>\n",
       "      <th>TMin</th>\n",
       "      <th>RhMax</th>\n",
       "      <th>RhMin</th>\n",
       "      <th>coordinates</th>\n",
       "    </tr>\n",
       "  </thead>\n",
       "  <tbody>\n",
       "    <tr>\n",
       "      <th>0</th>\n",
       "      <td>14G+20221031220000</td>\n",
       "      <td>14g</td>\n",
       "      <td>44865.91667</td>\n",
       "      <td>2.022100e+13</td>\n",
       "      <td>0.0</td>\n",
       "      <td>0.0</td>\n",
       "      <td>2.7</td>\n",
       "      <td>96</td>\n",
       "      <td>9.6</td>\n",
       "      <td>320</td>\n",
       "      <td>...</td>\n",
       "      <td>NaN</td>\n",
       "      <td>NaN</td>\n",
       "      <td>NaN</td>\n",
       "      <td>NaN</td>\n",
       "      <td>NaN</td>\n",
       "      <td>NaN</td>\n",
       "      <td>NaN</td>\n",
       "      <td>NaN</td>\n",
       "      <td>NaN</td>\n",
       "      <td>POINT (-123.614722 48.494167)</td>\n",
       "    </tr>\n",
       "    <tr>\n",
       "      <th>1</th>\n",
       "      <td>31N+20221031220000</td>\n",
       "      <td>31n</td>\n",
       "      <td>44865.91667</td>\n",
       "      <td>2.022100e+13</td>\n",
       "      <td>0.0</td>\n",
       "      <td>-9999.0</td>\n",
       "      <td>1.2</td>\n",
       "      <td>98</td>\n",
       "      <td>16.4</td>\n",
       "      <td>236</td>\n",
       "      <td>...</td>\n",
       "      <td>NaN</td>\n",
       "      <td>NaN</td>\n",
       "      <td>NaN</td>\n",
       "      <td>NaN</td>\n",
       "      <td>NaN</td>\n",
       "      <td>NaN</td>\n",
       "      <td>NaN</td>\n",
       "      <td>NaN</td>\n",
       "      <td>NaN</td>\n",
       "      <td>POINT (-123.638611 48.52944)</td>\n",
       "    </tr>\n",
       "    <tr>\n",
       "      <th>2</th>\n",
       "      <td>4RW6+20221031220000</td>\n",
       "      <td>4rw6</td>\n",
       "      <td>44865.91667</td>\n",
       "      <td>2.022100e+13</td>\n",
       "      <td>0.0</td>\n",
       "      <td>-0.1</td>\n",
       "      <td>1.9</td>\n",
       "      <td>79</td>\n",
       "      <td>16.8</td>\n",
       "      <td>231</td>\n",
       "      <td>...</td>\n",
       "      <td>NaN</td>\n",
       "      <td>NaN</td>\n",
       "      <td>NaN</td>\n",
       "      <td>NaN</td>\n",
       "      <td>NaN</td>\n",
       "      <td>NaN</td>\n",
       "      <td>NaN</td>\n",
       "      <td>NaN</td>\n",
       "      <td>NaN</td>\n",
       "      <td>POINT (-123.751111 48.585833)</td>\n",
       "    </tr>\n",
       "    <tr>\n",
       "      <th>3</th>\n",
       "      <td>Chris_Creek+20221031220000</td>\n",
       "      <td>chris_creek</td>\n",
       "      <td>44865.91667</td>\n",
       "      <td>2.022100e+13</td>\n",
       "      <td>0.0</td>\n",
       "      <td>-0.1</td>\n",
       "      <td>-0.3</td>\n",
       "      <td>98</td>\n",
       "      <td>5.3</td>\n",
       "      <td>48</td>\n",
       "      <td>...</td>\n",
       "      <td>NaN</td>\n",
       "      <td>NaN</td>\n",
       "      <td>NaN</td>\n",
       "      <td>NaN</td>\n",
       "      <td>NaN</td>\n",
       "      <td>NaN</td>\n",
       "      <td>NaN</td>\n",
       "      <td>NaN</td>\n",
       "      <td>NaN</td>\n",
       "      <td>POINT (-123.840556 48.580278)</td>\n",
       "    </tr>\n",
       "    <tr>\n",
       "      <th>4</th>\n",
       "      <td>Martins_Gulch+20221031220000</td>\n",
       "      <td>martins_gulch</td>\n",
       "      <td>44865.91667</td>\n",
       "      <td>2.022100e+13</td>\n",
       "      <td>0.0</td>\n",
       "      <td>0.0</td>\n",
       "      <td>2.1</td>\n",
       "      <td>92</td>\n",
       "      <td>7.8</td>\n",
       "      <td>264</td>\n",
       "      <td>...</td>\n",
       "      <td>NaN</td>\n",
       "      <td>NaN</td>\n",
       "      <td>NaN</td>\n",
       "      <td>NaN</td>\n",
       "      <td>NaN</td>\n",
       "      <td>NaN</td>\n",
       "      <td>NaN</td>\n",
       "      <td>NaN</td>\n",
       "      <td>NaN</td>\n",
       "      <td>POINT (-123.764438 48.51616)</td>\n",
       "    </tr>\n",
       "  </tbody>\n",
       "</table>\n",
       "<p>5 rows × 37 columns</p>\n",
       "</div>"
      ],
      "text/plain": [
       "                       RecordID    StationName     DateTime  DateTimeString  \\\n",
       "0            14G+20221031220000            14g  44865.91667    2.022100e+13   \n",
       "1            31N+20221031220000            31n  44865.91667    2.022100e+13   \n",
       "2           4RW6+20221031220000           4rw6  44865.91667    2.022100e+13   \n",
       "3    Chris_Creek+20221031220000    chris_creek  44865.91667    2.022100e+13   \n",
       "4  Martins_Gulch+20221031220000  martins_gulch  44865.91667    2.022100e+13   \n",
       "\n",
       "   Rain  Precipitation  AirTemperature  RelativeHumidity  WindSpeed  \\\n",
       "0   0.0            0.0             2.7                96        9.6   \n",
       "1   0.0        -9999.0             1.2                98       16.4   \n",
       "2   0.0           -0.1             1.9                79       16.8   \n",
       "3   0.0           -0.1            -0.3                98        5.3   \n",
       "4   0.0            0.0             2.1                92        7.8   \n",
       "\n",
       "   WindDirection  ...  TFuel  Rn_1  Wspd_1  Mx_Dir  Mx_Spd  TMax  TMin  RhMax  \\\n",
       "0            320  ...    NaN   NaN     NaN     NaN     NaN   NaN   NaN    NaN   \n",
       "1            236  ...    NaN   NaN     NaN     NaN     NaN   NaN   NaN    NaN   \n",
       "2            231  ...    NaN   NaN     NaN     NaN     NaN   NaN   NaN    NaN   \n",
       "3             48  ...    NaN   NaN     NaN     NaN     NaN   NaN   NaN    NaN   \n",
       "4            264  ...    NaN   NaN     NaN     NaN     NaN   NaN   NaN    NaN   \n",
       "\n",
       "   RhMin                    coordinates  \n",
       "0    NaN  POINT (-123.614722 48.494167)  \n",
       "1    NaN   POINT (-123.638611 48.52944)  \n",
       "2    NaN  POINT (-123.751111 48.585833)  \n",
       "3    NaN  POINT (-123.840556 48.580278)  \n",
       "4    NaN   POINT (-123.764438 48.51616)  \n",
       "\n",
       "[5 rows x 37 columns]"
      ]
     },
     "execution_count": 5,
     "metadata": {},
     "output_type": "execute_result"
    }
   ],
   "source": [
    "from shapely.geometry import Point\n",
    "xy_table['coordinates'] = xy_table['coordinates'].apply(Point)\n",
    "xy_table.head()"
   ]
  },
  {
   "cell_type": "markdown",
   "metadata": {
    "id": "vYzsuFX9raJS"
   },
   "source": [
    "`xy_table` is still a pandas DataFrame:"
   ]
  },
  {
   "cell_type": "code",
   "execution_count": 6,
   "metadata": {
    "id": "NoV8LlYrraUs"
   },
   "outputs": [
    {
     "data": {
      "text/plain": [
       "pandas.core.frame.DataFrame"
      ]
     },
     "execution_count": 6,
     "metadata": {},
     "output_type": "execute_result"
    }
   ],
   "source": [
    "type(xy_table)"
   ]
  },
  {
   "cell_type": "markdown",
   "metadata": {
    "id": "MY5JKUMCvI8s"
   },
   "source": [
    "To convert `xy_table` to a spatial object use the `GeoDataFrame` constructor from geopandas entering the DataFrame and the column with the geometry data as inputs:"
   ]
  },
  {
   "cell_type": "code",
   "execution_count": 7,
   "metadata": {
    "id": "yWJz8FyWvJJU"
   },
   "outputs": [
    {
     "data": {
      "text/plain": [
       "geopandas.geodataframe.GeoDataFrame"
      ]
     },
     "execution_count": 7,
     "metadata": {},
     "output_type": "execute_result"
    }
   ],
   "source": [
    "stations = geopandas.GeoDataFrame(xy_table, geometry = 'coordinates')\n",
    "type(stations)"
   ]
  },
  {
   "cell_type": "markdown",
   "metadata": {
    "id": "E2f1xaBK_uX7"
   },
   "source": [
    "Plot the `stations` GeoDataFrame (static plot):"
   ]
  },
  {
   "cell_type": "code",
   "execution_count": 8,
   "metadata": {
    "id": "qdS1HzCpvqVK"
   },
   "outputs": [
    {
     "data": {
      "text/plain": [
       "<AxesSubplot:>"
      ]
     },
     "execution_count": 8,
     "metadata": {},
     "output_type": "execute_result"
    },
    {
     "data": {
      "image/png": "[encoded data removed]",
      "text/plain": [
       "<Figure size 432x288 with 1 Axes>"
      ]
     },
     "metadata": {
      "needs_background": "light"
     },
     "output_type": "display_data"
    }
   ],
   "source": [
    "stations.plot()"
   ]
  },
  {
   "cell_type": "markdown",
   "metadata": {
    "id": "5we0Uf2Nwegz"
   },
   "source": [
    "## **Display a point layer in a leaflet-based web map**\n",
    "\n",
    "A web map can be easily created with the folium library. \n",
    "\n",
    "For instructions on installing folium visit: https://python-visualization.github.io/folium/installing.html#installation\n",
    "\n",
    "After installation import the folium library:"
   ]
  },
  {
   "cell_type": "code",
   "execution_count": 9,
   "metadata": {
    "id": "W6DCe_j8274H"
   },
   "outputs": [],
   "source": [
    "import folium"
   ]
  },
  {
   "cell_type": "markdown",
   "metadata": {
    "id": "vi3HaBhh8UbW"
   },
   "source": [
    "To create a leaflet web map use `folium.Map()` entering a list with latitude and longitude coordinates for the 'location' parameter (note that the order is [lat,long], not [long,lat]).\n",
    "\n",
    "For example enter the average values for the 'LATITUD' and 'LONGITUD' columns in the `stations` GeoDataFrame (optionally enter a starting zoom level):"
   ]
  },
  {
   "cell_type": "code",
   "execution_count": 10,
   "metadata": {
    "id": "BMV1HPkGwesv"
   },
   "outputs": [
    {
     "data": {
      "text/html": [
       "<div style=\"width:100%;\"><div style=\"position:relative;width:100%;height:0;padding-bottom:60%;\"><span style=\"color:#565656\">Make this Notebook Trusted to load map: File -> Trust Notebook</span><iframe srcdoc=\"&lt;!DOCTYPE html&gt;\n",
       "&lt;head&gt;    \n",
       "    &lt;meta http-equiv=&quot;content-type&quot; content=&quot;text/html; charset=UTF-8&quot; /&gt;\n",
       "    \n",
       "        &lt;script&gt;\n",
       "            L_NO_TOUCH = false;\n",
       "            L_DISABLE_3D = false;\n",
       "        &lt;/script&gt;\n",
       "    \n",
       "    &lt;style&gt;html, body {width: 100%;height: 100%;margin: 0;padding: 0;}&lt;/style&gt;\n",
       "    &lt;style&gt;#map {position:absolute;top:0;bottom:0;right:0;left:0;}&lt;/style&gt;\n",
       "    &lt;script src=&quot;https://cdn.jsdelivr.net/npm/leaflet@1.6.0/dist/leaflet.js&quot;&gt;&lt;/script&gt;\n",
       "    &lt;script src=&quot;https://code.jquery.com/jquery-1.12.4.min.js&quot;&gt;&lt;/script&gt;\n",
       "    &lt;script src=&quot;https://maxcdn.bootstrapcdn.com/bootstrap/3.2.0/js/bootstrap.min.js&quot;&gt;&lt;/script&gt;\n",
       "    &lt;script src=&quot;https://cdnjs.cloudflare.com/ajax/libs/Leaflet.awesome-markers/2.0.2/leaflet.awesome-markers.js&quot;&gt;&lt;/script&gt;\n",
       "    &lt;link rel=&quot;stylesheet&quot; href=&quot;https://cdn.jsdelivr.net/npm/leaflet@1.6.0/dist/leaflet.css&quot;/&gt;\n",
       "    &lt;link rel=&quot;stylesheet&quot; href=&quot;https://maxcdn.bootstrapcdn.com/bootstrap/3.2.0/css/bootstrap.min.css&quot;/&gt;\n",
       "    &lt;link rel=&quot;stylesheet&quot; href=&quot;https://maxcdn.bootstrapcdn.com/bootstrap/3.2.0/css/bootstrap-theme.min.css&quot;/&gt;\n",
       "    &lt;link rel=&quot;stylesheet&quot; href=&quot;https://maxcdn.bootstrapcdn.com/font-awesome/4.6.3/css/font-awesome.min.css&quot;/&gt;\n",
       "    &lt;link rel=&quot;stylesheet&quot; href=&quot;https://cdnjs.cloudflare.com/ajax/libs/Leaflet.awesome-markers/2.0.2/leaflet.awesome-markers.css&quot;/&gt;\n",
       "    &lt;link rel=&quot;stylesheet&quot; href=&quot;https://cdn.jsdelivr.net/gh/python-visualization/folium/folium/templates/leaflet.awesome.rotate.min.css&quot;/&gt;\n",
       "    \n",
       "            &lt;meta name=&quot;viewport&quot; content=&quot;width=device-width,\n",
       "                initial-scale=1.0, maximum-scale=1.0, user-scalable=no&quot; /&gt;\n",
       "            &lt;style&gt;\n",
       "                #map_53c6a4ac1094d2790d15589710f5a431 {\n",
       "                    position: relative;\n",
       "                    width: 100.0%;\n",
       "                    height: 100.0%;\n",
       "                    left: 0.0%;\n",
       "                    top: 0.0%;\n",
       "                }\n",
       "            &lt;/style&gt;\n",
       "        \n",
       "&lt;/head&gt;\n",
       "&lt;body&gt;    \n",
       "    \n",
       "            &lt;div class=&quot;folium-map&quot; id=&quot;map_53c6a4ac1094d2790d15589710f5a431&quot; &gt;&lt;/div&gt;\n",
       "        \n",
       "&lt;/body&gt;\n",
       "&lt;script&gt;    \n",
       "    \n",
       "            var map_53c6a4ac1094d2790d15589710f5a431 = L.map(\n",
       "                &quot;map_53c6a4ac1094d2790d15589710f5a431&quot;,\n",
       "                {\n",
       "                    center: [48.53323236363635, -123.69242955454546],\n",
       "                    crs: L.CRS.EPSG3857,\n",
       "                    zoom: 4,\n",
       "                    zoomControl: true,\n",
       "                    preferCanvas: false,\n",
       "                }\n",
       "            );\n",
       "\n",
       "            \n",
       "\n",
       "        \n",
       "    \n",
       "            var tile_layer_71772351fe78dda6dec82c0a8c8faef3 = L.tileLayer(\n",
       "                &quot;https://{s}.tile.openstreetmap.org/{z}/{x}/{y}.png&quot;,\n",
       "                {&quot;attribution&quot;: &quot;Data by \\u0026copy; \\u003ca href=\\&quot;http://openstreetmap.org\\&quot;\\u003eOpenStreetMap\\u003c/a\\u003e, under \\u003ca href=\\&quot;http://www.openstreetmap.org/copyright\\&quot;\\u003eODbL\\u003c/a\\u003e.&quot;, &quot;detectRetina&quot;: false, &quot;maxNativeZoom&quot;: 18, &quot;maxZoom&quot;: 18, &quot;minZoom&quot;: 0, &quot;noWrap&quot;: false, &quot;opacity&quot;: 1, &quot;subdomains&quot;: &quot;abc&quot;, &quot;tms&quot;: false}\n",
       "            ).addTo(map_53c6a4ac1094d2790d15589710f5a431);\n",
       "        \n",
       "&lt;/script&gt;\" style=\"position:absolute;width:100%;height:100%;left:0;top:0;border:none !important;\" allowfullscreen webkitallowfullscreen mozallowfullscreen></iframe></div></div>"
      ],
      "text/plain": [
       "<folium.folium.Map at 0x7feaf9366d90>"
      ]
     },
     "execution_count": 10,
     "metadata": {},
     "output_type": "execute_result"
    }
   ],
   "source": [
    "osm_map = folium.Map(location=[stations.Stn_lat.mean(), stations.Stn_long.mean()], zoom_start=4)\n",
    "osm_map"
   ]
  },
  {
   "cell_type": "markdown",
   "metadata": {
    "id": "0JbF-BUe3PlK"
   },
   "source": [
    "To add a GeoDataFrame to the folium map, create a GeoJSON representation of the GeodataFrame, and then use `folium.features.GeoJson()` to create a GeoJson object for plotting into the map:"
   ]
  },
  {
   "cell_type": "code",
   "execution_count": 11,
   "metadata": {
    "id": "ZWm-2QKN3PuC"
   },
   "outputs": [],
   "source": [
    "points = folium.features.GeoJson(stations.to_json())"
   ]
  },
  {
   "cell_type": "markdown",
   "metadata": {
    "id": "4hXsKmvuMA50"
   },
   "source": [
    "Then add the GeoJson object called `points` to the `map_osm` map with `add_child()`: "
   ]
  },
  {
   "cell_type": "code",
   "execution_count": 12,
   "metadata": {
    "id": "jPzOhvhwMBCb"
   },
   "outputs": [
    {
     "data": {
      "text/html": [
       "<div style=\"width:100%;\"><div style=\"position:relative;width:100%;height:0;padding-bottom:60%;\"><span style=\"color:#565656\">Make this Notebook Trusted to load map: File -> Trust Notebook</span><iframe srcdoc=\"&lt;!DOCTYPE html&gt;\n",
       "&lt;head&gt;    \n",
       "    &lt;meta http-equiv=&quot;content-type&quot; content=&quot;text/html; charset=UTF-8&quot; /&gt;\n",
       "    \n",
       "        &lt;script&gt;\n",
       "            L_NO_TOUCH = false;\n",
       "            L_DISABLE_3D = false;\n",
       "        &lt;/script&gt;\n",
       "    \n",
       "    &lt;style&gt;html, body {width: 100%;height: 100%;margin: 0;padding: 0;}&lt;/style&gt;\n",
       "    &lt;style&gt;#map {position:absolute;top:0;bottom:0;right:0;left:0;}&lt;/style&gt;\n",
       "    &lt;script src=&quot;https://cdn.jsdelivr.net/npm/leaflet@1.6.0/dist/leaflet.js&quot;&gt;&lt;/script&gt;\n",
       "    &lt;script src=&quot;https://code.jquery.com/jquery-1.12.4.min.js&quot;&gt;&lt;/script&gt;\n",
       "    &lt;script src=&quot;https://maxcdn.bootstrapcdn.com/bootstrap/3.2.0/js/bootstrap.min.js&quot;&gt;&lt;/script&gt;\n",
       "    &lt;script src=&quot;https://cdnjs.cloudflare.com/ajax/libs/Leaflet.awesome-markers/2.0.2/leaflet.awesome-markers.js&quot;&gt;&lt;/script&gt;\n",
       "    &lt;link rel=&quot;stylesheet&quot; href=&quot;https://cdn.jsdelivr.net/npm/leaflet@1.6.0/dist/leaflet.css&quot;/&gt;\n",
       "    &lt;link rel=&quot;stylesheet&quot; href=&quot;https://maxcdn.bootstrapcdn.com/bootstrap/3.2.0/css/bootstrap.min.css&quot;/&gt;\n",
       "    &lt;link rel=&quot;stylesheet&quot; href=&quot;https://maxcdn.bootstrapcdn.com/bootstrap/3.2.0/css/bootstrap-theme.min.css&quot;/&gt;\n",
       "    &lt;link rel=&quot;stylesheet&quot; href=&quot;https://maxcdn.bootstrapcdn.com/font-awesome/4.6.3/css/font-awesome.min.css&quot;/&gt;\n",
       "    &lt;link rel=&quot;stylesheet&quot; href=&quot;https://cdnjs.cloudflare.com/ajax/libs/Leaflet.awesome-markers/2.0.2/leaflet.awesome-markers.css&quot;/&gt;\n",
       "    &lt;link rel=&quot;stylesheet&quot; href=&quot;https://cdn.jsdelivr.net/gh/python-visualization/folium/folium/templates/leaflet.awesome.rotate.min.css&quot;/&gt;\n",
       "    \n",
       "            &lt;meta name=&quot;viewport&quot; content=&quot;width=device-width,\n",
       "                initial-scale=1.0, maximum-scale=1.0, user-scalable=no&quot; /&gt;\n",
       "            &lt;style&gt;\n",
       "                #map_53c6a4ac1094d2790d15589710f5a431 {\n",
       "                    position: relative;\n",
       "                    width: 100.0%;\n",
       "                    height: 100.0%;\n",
       "                    left: 0.0%;\n",
       "                    top: 0.0%;\n",
       "                }\n",
       "            &lt;/style&gt;\n",
       "        \n",
       "&lt;/head&gt;\n",
       "&lt;body&gt;    \n",
       "    \n",
       "            &lt;div class=&quot;folium-map&quot; id=&quot;map_53c6a4ac1094d2790d15589710f5a431&quot; &gt;&lt;/div&gt;\n",
       "        \n",
       "&lt;/body&gt;\n",
       "&lt;script&gt;    \n",
       "    \n",
       "            var map_53c6a4ac1094d2790d15589710f5a431 = L.map(\n",
       "                &quot;map_53c6a4ac1094d2790d15589710f5a431&quot;,\n",
       "                {\n",
       "                    center: [48.53323236363635, -123.69242955454546],\n",
       "                    crs: L.CRS.EPSG3857,\n",
       "                    zoom: 4,\n",
       "                    zoomControl: true,\n",
       "                    preferCanvas: false,\n",
       "                }\n",
       "            );\n",
       "\n",
       "            \n",
       "\n",
       "        \n",
       "    \n",
       "            var tile_layer_71772351fe78dda6dec82c0a8c8faef3 = L.tileLayer(\n",
       "                &quot;https://{s}.tile.openstreetmap.org/{z}/{x}/{y}.png&quot;,\n",
       "                {&quot;attribution&quot;: &quot;Data by \\u0026copy; \\u003ca href=\\&quot;http://openstreetmap.org\\&quot;\\u003eOpenStreetMap\\u003c/a\\u003e, under \\u003ca href=\\&quot;http://www.openstreetmap.org/copyright\\&quot;\\u003eODbL\\u003c/a\\u003e.&quot;, &quot;detectRetina&quot;: false, &quot;maxNativeZoom&quot;: 18, &quot;maxZoom&quot;: 18, &quot;minZoom&quot;: 0, &quot;noWrap&quot;: false, &quot;opacity&quot;: 1, &quot;subdomains&quot;: &quot;abc&quot;, &quot;tms&quot;: false}\n",
       "            ).addTo(map_53c6a4ac1094d2790d15589710f5a431);\n",
       "        \n",
       "    \n",
       "\n",
       "        function geo_json_a1a11ae7f7e3c06f836b6f6d7f022523_onEachFeature(feature, layer) {\n",
       "            layer.on({\n",
       "            });\n",
       "        };\n",
       "        var geo_json_a1a11ae7f7e3c06f836b6f6d7f022523 = L.geoJson(null, {\n",
       "                onEachFeature: geo_json_a1a11ae7f7e3c06f836b6f6d7f022523_onEachFeature,\n",
       "            \n",
       "        });\n",
       "\n",
       "        function geo_json_a1a11ae7f7e3c06f836b6f6d7f022523_add (data) {\n",
       "            geo_json_a1a11ae7f7e3c06f836b6f6d7f022523\n",
       "                .addData(data)\n",
       "                .addTo(map_53c6a4ac1094d2790d15589710f5a431);\n",
       "        }\n",
       "            geo_json_a1a11ae7f7e3c06f836b6f6d7f022523_add({&quot;features&quot;: [{&quot;geometry&quot;: {&quot;coordinates&quot;: [-123.614722, 48.494167], &quot;type&quot;: &quot;Point&quot;}, &quot;id&quot;: &quot;0&quot;, &quot;properties&quot;: {&quot;AirTemperature&quot;: 2.7, &quot;BarometricPressure&quot;: -9999.0, &quot;CSdeep&quot;: null, &quot;CSshal&quot;: null, &quot;DataErrors&quot;: null, &quot;DateTime&quot;: &quot;44865.91667&quot;, &quot;DateTimeString&quot;: 20221000000000.0, &quot;MFuel&quot;: null, &quot;MSdeep&quot;: null, &quot;MSshal&quot;: null, &quot;Mx_Dir&quot;: null, &quot;Mx_Spd&quot;: null, &quot;Precipitation&quot;: 0.0, &quot;Rain&quot;: 0.0, &quot;RecordID&quot;: &quot;14G+20221031220000&quot;, &quot;RelativeHumidity&quot;: 96, &quot;RhMax&quot;: null, &quot;RhMin&quot;: null, &quot;Rn_1&quot;: null, &quot;SnowDepth&quot;: null, &quot;SnowWaterEquivalent&quot;: -9999.0, &quot;SolarActiveRadiation&quot;: -9999, &quot;SolarRadiation&quot;: 0, &quot;StationName&quot;: &quot;14g&quot;, &quot;Stn_lat&quot;: 48.494167, &quot;Stn_long&quot;: -123.614722, &quot;TFuel&quot;: null, &quot;TMax&quot;: null, &quot;TMin&quot;: null, &quot;TSdeep&quot;: null, &quot;TSshal&quot;: null, &quot;Vbatt&quot;: null, &quot;Vtx&quot;: null, &quot;WindDirection&quot;: 320, &quot;WindSpeed&quot;: 9.6, &quot;Wspd_1&quot;: null}, &quot;type&quot;: &quot;Feature&quot;}, {&quot;geometry&quot;: {&quot;coordinates&quot;: [-123.63861100000001, 48.52944], &quot;type&quot;: &quot;Point&quot;}, &quot;id&quot;: &quot;1&quot;, &quot;properties&quot;: {&quot;AirTemperature&quot;: 1.2, &quot;BarometricPressure&quot;: -9999.0, &quot;CSdeep&quot;: null, &quot;CSshal&quot;: null, &quot;DataErrors&quot;: null, &quot;DateTime&quot;: &quot;44865.91667&quot;, &quot;DateTimeString&quot;: 20221000000000.0, &quot;MFuel&quot;: null, &quot;MSdeep&quot;: null, &quot;MSshal&quot;: null, &quot;Mx_Dir&quot;: null, &quot;Mx_Spd&quot;: null, &quot;Precipitation&quot;: -9999.0, &quot;Rain&quot;: 0.0, &quot;RecordID&quot;: &quot;31N+20221031220000&quot;, &quot;RelativeHumidity&quot;: 98, &quot;RhMax&quot;: null, &quot;RhMin&quot;: null, &quot;Rn_1&quot;: null, &quot;SnowDepth&quot;: -9999.0, &quot;SnowWaterEquivalent&quot;: -9999.0, &quot;SolarActiveRadiation&quot;: -9999, &quot;SolarRadiation&quot;: -9999, &quot;StationName&quot;: &quot;31n&quot;, &quot;Stn_lat&quot;: 48.52944, &quot;Stn_long&quot;: -123.63861100000001, &quot;TFuel&quot;: null, &quot;TMax&quot;: null, &quot;TMin&quot;: null, &quot;TSdeep&quot;: null, &quot;TSshal&quot;: null, &quot;Vbatt&quot;: null, &quot;Vtx&quot;: null, &quot;WindDirection&quot;: 236, &quot;WindSpeed&quot;: 16.4, &quot;Wspd_1&quot;: null}, &quot;type&quot;: &quot;Feature&quot;}, {&quot;geometry&quot;: {&quot;coordinates&quot;: [-123.75111100000001, 48.585833], &quot;type&quot;: &quot;Point&quot;}, &quot;id&quot;: &quot;2&quot;, &quot;properties&quot;: {&quot;AirTemperature&quot;: 1.9, &quot;BarometricPressure&quot;: -9999.0, &quot;CSdeep&quot;: null, &quot;CSshal&quot;: null, &quot;DataErrors&quot;: null, &quot;DateTime&quot;: &quot;44865.91667&quot;, &quot;DateTimeString&quot;: 20221000000000.0, &quot;MFuel&quot;: null, &quot;MSdeep&quot;: null, &quot;MSshal&quot;: null, &quot;Mx_Dir&quot;: null, &quot;Mx_Spd&quot;: null, &quot;Precipitation&quot;: -0.1, &quot;Rain&quot;: 0.0, &quot;RecordID&quot;: &quot;4RW6+20221031220000&quot;, &quot;RelativeHumidity&quot;: 79, &quot;RhMax&quot;: null, &quot;RhMin&quot;: null, &quot;Rn_1&quot;: null, &quot;SnowDepth&quot;: -0.002, &quot;SnowWaterEquivalent&quot;: 1.2, &quot;SolarActiveRadiation&quot;: -9999, &quot;SolarRadiation&quot;: -9999, &quot;StationName&quot;: &quot;4rw6&quot;, &quot;Stn_lat&quot;: 48.585833, &quot;Stn_long&quot;: -123.75111100000001, &quot;TFuel&quot;: null, &quot;TMax&quot;: null, &quot;TMin&quot;: null, &quot;TSdeep&quot;: null, &quot;TSshal&quot;: null, &quot;Vbatt&quot;: null, &quot;Vtx&quot;: null, &quot;WindDirection&quot;: 231, &quot;WindSpeed&quot;: 16.8, &quot;Wspd_1&quot;: null}, &quot;type&quot;: &quot;Feature&quot;}, {&quot;geometry&quot;: {&quot;coordinates&quot;: [-123.840556, 48.580278], &quot;type&quot;: &quot;Point&quot;}, &quot;id&quot;: &quot;3&quot;, &quot;properties&quot;: {&quot;AirTemperature&quot;: -0.3, &quot;BarometricPressure&quot;: -9999.0, &quot;CSdeep&quot;: null, &quot;CSshal&quot;: null, &quot;DataErrors&quot;: null, &quot;DateTime&quot;: &quot;44865.91667&quot;, &quot;DateTimeString&quot;: 20221000000000.0, &quot;MFuel&quot;: null, &quot;MSdeep&quot;: null, &quot;MSshal&quot;: null, &quot;Mx_Dir&quot;: null, &quot;Mx_Spd&quot;: null, &quot;Precipitation&quot;: -0.1, &quot;Rain&quot;: 0.0, &quot;RecordID&quot;: &quot;Chris_Creek+20221031220000&quot;, &quot;RelativeHumidity&quot;: 98, &quot;RhMax&quot;: null, &quot;RhMin&quot;: null, &quot;Rn_1&quot;: null, &quot;SnowDepth&quot;: null, &quot;SnowWaterEquivalent&quot;: -9999.0, &quot;SolarActiveRadiation&quot;: -9999, &quot;SolarRadiation&quot;: 0, &quot;StationName&quot;: &quot;chris_creek&quot;, &quot;Stn_lat&quot;: 48.580278, &quot;Stn_long&quot;: -123.840556, &quot;TFuel&quot;: null, &quot;TMax&quot;: null, &quot;TMin&quot;: null, &quot;TSdeep&quot;: null, &quot;TSshal&quot;: null, &quot;Vbatt&quot;: null, &quot;Vtx&quot;: null, &quot;WindDirection&quot;: 48, &quot;WindSpeed&quot;: 5.3, &quot;Wspd_1&quot;: null}, &quot;type&quot;: &quot;Feature&quot;}, {&quot;geometry&quot;: {&quot;coordinates&quot;: [-123.76443799999998, 48.51616], &quot;type&quot;: &quot;Point&quot;}, &quot;id&quot;: &quot;4&quot;, &quot;properties&quot;: {&quot;AirTemperature&quot;: 2.1, &quot;BarometricPressure&quot;: -9999.0, &quot;CSdeep&quot;: null, &quot;CSshal&quot;: null, &quot;DataErrors&quot;: null, &quot;DateTime&quot;: &quot;44865.91667&quot;, &quot;DateTimeString&quot;: 20221000000000.0, &quot;MFuel&quot;: null, &quot;MSdeep&quot;: null, &quot;MSshal&quot;: null, &quot;Mx_Dir&quot;: null, &quot;Mx_Spd&quot;: null, &quot;Precipitation&quot;: 0.0, &quot;Rain&quot;: 0.0, &quot;RecordID&quot;: &quot;Martins_Gulch+20221031220000&quot;, &quot;RelativeHumidity&quot;: 92, &quot;RhMax&quot;: null, &quot;RhMin&quot;: null, &quot;Rn_1&quot;: null, &quot;SnowDepth&quot;: -0.006, &quot;SnowWaterEquivalent&quot;: -9999.0, &quot;SolarActiveRadiation&quot;: -9999, &quot;SolarRadiation&quot;: 0, &quot;StationName&quot;: &quot;martins_gulch&quot;, &quot;Stn_lat&quot;: 48.51616, &quot;Stn_long&quot;: -123.76443799999998, &quot;TFuel&quot;: null, &quot;TMax&quot;: null, &quot;TMin&quot;: null, &quot;TSdeep&quot;: null, &quot;TSshal&quot;: null, &quot;Vbatt&quot;: null, &quot;Vtx&quot;: null, &quot;WindDirection&quot;: 264, &quot;WindSpeed&quot;: 7.8, &quot;Wspd_1&quot;: null}, &quot;type&quot;: &quot;Feature&quot;}, {&quot;geometry&quot;: {&quot;coordinates&quot;: [-123.56888899999998, 48.441944], &quot;type&quot;: &quot;Point&quot;}, &quot;id&quot;: &quot;5&quot;, &quot;properties&quot;: {&quot;AirTemperature&quot;: 3.9, &quot;BarometricPressure&quot;: -9999.0, &quot;CSdeep&quot;: null, &quot;CSshal&quot;: null, &quot;DataErrors&quot;: null, &quot;DateTime&quot;: &quot;44865.91667&quot;, &quot;DateTimeString&quot;: 20221000000000.0, &quot;MFuel&quot;: null, &quot;MSdeep&quot;: null, &quot;MSshal&quot;: null, &quot;Mx_Dir&quot;: null, &quot;Mx_Spd&quot;: null, &quot;Precipitation&quot;: -9999.0, &quot;Rain&quot;: 0.0, &quot;RecordID&quot;: &quot;Mt_McDonald+20221031220000&quot;, &quot;RelativeHumidity&quot;: 94, &quot;RhMax&quot;: null, &quot;RhMin&quot;: null, &quot;Rn_1&quot;: null, &quot;SnowDepth&quot;: -9999.0, &quot;SnowWaterEquivalent&quot;: -9999.0, &quot;SolarActiveRadiation&quot;: -9999, &quot;SolarRadiation&quot;: -9999, &quot;StationName&quot;: &quot;mt_mcdonald&quot;, &quot;Stn_lat&quot;: 48.441944, &quot;Stn_long&quot;: -123.56888899999998, &quot;TFuel&quot;: null, &quot;TMax&quot;: null, &quot;TMin&quot;: null, &quot;TSdeep&quot;: null, &quot;TSshal&quot;: null, &quot;Vbatt&quot;: null, &quot;Vtx&quot;: null, &quot;WindDirection&quot;: 227, &quot;WindSpeed&quot;: 24.3, &quot;Wspd_1&quot;: null}, &quot;type&quot;: &quot;Feature&quot;}, {&quot;geometry&quot;: {&quot;coordinates&quot;: [-123.7075, 48.5725], &quot;type&quot;: &quot;Point&quot;}, &quot;id&quot;: &quot;6&quot;, &quot;properties&quot;: {&quot;AirTemperature&quot;: 4.0, &quot;BarometricPressure&quot;: -9999.0, &quot;CSdeep&quot;: null, &quot;CSshal&quot;: null, &quot;DataErrors&quot;: null, &quot;DateTime&quot;: &quot;44865.91667&quot;, &quot;DateTimeString&quot;: 20221000000000.0, &quot;MFuel&quot;: null, &quot;MSdeep&quot;: null, &quot;MSshal&quot;: null, &quot;Mx_Dir&quot;: null, &quot;Mx_Spd&quot;: null, &quot;Precipitation&quot;: -9999.0, &quot;Rain&quot;: 0.0, &quot;RecordID&quot;: &quot;North_Basin+20221031220000&quot;, &quot;RelativeHumidity&quot;: 88, &quot;RhMax&quot;: null, &quot;RhMin&quot;: null, &quot;Rn_1&quot;: null, &quot;SnowDepth&quot;: null, &quot;SnowWaterEquivalent&quot;: -9999.0, &quot;SolarActiveRadiation&quot;: -9999, &quot;SolarRadiation&quot;: 0, &quot;StationName&quot;: &quot;north_basin&quot;, &quot;Stn_lat&quot;: 48.5725, &quot;Stn_long&quot;: -123.7075, &quot;TFuel&quot;: null, &quot;TMax&quot;: null, &quot;TMin&quot;: null, &quot;TSdeep&quot;: null, &quot;TSshal&quot;: null, &quot;Vbatt&quot;: null, &quot;Vtx&quot;: null, &quot;WindDirection&quot;: 122, &quot;WindSpeed&quot;: 4.4, &quot;Wspd_1&quot;: null}, &quot;type&quot;: &quot;Feature&quot;}, {&quot;geometry&quot;: {&quot;coordinates&quot;: [-123.700556, 48.516110999999995], &quot;type&quot;: &quot;Point&quot;}, &quot;id&quot;: &quot;7&quot;, &quot;properties&quot;: {&quot;AirTemperature&quot;: 2.5, &quot;BarometricPressure&quot;: 988.89, &quot;CSdeep&quot;: null, &quot;CSshal&quot;: null, &quot;DataErrors&quot;: null, &quot;DateTime&quot;: &quot;44865.91667&quot;, &quot;DateTimeString&quot;: 20221000000000.0, &quot;MFuel&quot;: null, &quot;MSdeep&quot;: null, &quot;MSshal&quot;: null, &quot;Mx_Dir&quot;: null, &quot;Mx_Spd&quot;: null, &quot;Precipitation&quot;: -0.4, &quot;Rain&quot;: 0.0, &quot;RecordID&quot;: &quot;Sooke_Dam+20221031220000&quot;, &quot;RelativeHumidity&quot;: 97, &quot;RhMax&quot;: null, &quot;RhMin&quot;: null, &quot;Rn_1&quot;: null, &quot;SnowDepth&quot;: null, &quot;SnowWaterEquivalent&quot;: -9999.0, &quot;SolarActiveRadiation&quot;: 0, &quot;SolarRadiation&quot;: 0, &quot;StationName&quot;: &quot;sooke_dam&quot;, &quot;Stn_lat&quot;: 48.516110999999995, &quot;Stn_long&quot;: -123.700556, &quot;TFuel&quot;: null, &quot;TMax&quot;: null, &quot;TMin&quot;: null, &quot;TSdeep&quot;: null, &quot;TSshal&quot;: null, &quot;Vbatt&quot;: null, &quot;Vtx&quot;: null, &quot;WindDirection&quot;: 213, &quot;WindSpeed&quot;: 4.4, &quot;Wspd_1&quot;: null}, &quot;type&quot;: &quot;Feature&quot;}, {&quot;geometry&quot;: {&quot;coordinates&quot;: [-123.70134209999999, 48.523123], &quot;type&quot;: &quot;Point&quot;}, &quot;id&quot;: &quot;8&quot;, &quot;properties&quot;: {&quot;AirTemperature&quot;: -0.4, &quot;BarometricPressure&quot;: -9999.0, &quot;CSdeep&quot;: null, &quot;CSshal&quot;: null, &quot;DataErrors&quot;: null, &quot;DateTime&quot;: &quot;44865.91667&quot;, &quot;DateTimeString&quot;: 20221000000000.0, &quot;MFuel&quot;: null, &quot;MSdeep&quot;: null, &quot;MSshal&quot;: null, &quot;Mx_Dir&quot;: null, &quot;Mx_Spd&quot;: null, &quot;Precipitation&quot;: 0.0, &quot;Rain&quot;: 0.0, &quot;RecordID&quot;: &quot;Survey_Mtn+20221031220000&quot;, &quot;RelativeHumidity&quot;: 95, &quot;RhMax&quot;: null, &quot;RhMin&quot;: null, &quot;Rn_1&quot;: null, &quot;SnowDepth&quot;: 0.0, &quot;SnowWaterEquivalent&quot;: 3.5, &quot;SolarActiveRadiation&quot;: -9999, &quot;SolarRadiation&quot;: 0, &quot;StationName&quot;: &quot;survey_mtn&quot;, &quot;Stn_lat&quot;: 48.523123, &quot;Stn_long&quot;: -123.70134209999999, &quot;TFuel&quot;: null, &quot;TMax&quot;: null, &quot;TMin&quot;: null, &quot;TSdeep&quot;: null, &quot;TSshal&quot;: null, &quot;Vbatt&quot;: null, &quot;Vtx&quot;: null, &quot;WindDirection&quot;: 226, &quot;WindSpeed&quot;: 6.8, &quot;Wspd_1&quot;: null}, &quot;type&quot;: &quot;Feature&quot;}, {&quot;geometry&quot;: {&quot;coordinates&quot;: [-123.605, 48.49100000000001], &quot;type&quot;: &quot;Point&quot;}, &quot;id&quot;: &quot;9&quot;, &quot;properties&quot;: {&quot;AirTemperature&quot;: 6.2, &quot;BarometricPressure&quot;: null, &quot;CSdeep&quot;: 0.001, &quot;CSshal&quot;: 0.0, &quot;DataErrors&quot;: null, &quot;DateTime&quot;: &quot;2022-Oct-31 22:00:00&quot;, &quot;DateTimeString&quot;: null, &quot;MFuel&quot;: 27.0, &quot;MSdeep&quot;: 0.18, &quot;MSshal&quot;: 0.1, &quot;Mx_Dir&quot;: 118.0, &quot;Mx_Spd&quot;: 12.8, &quot;Precipitation&quot;: null, &quot;Rain&quot;: 2.2, &quot;RecordID&quot;: &quot;7347&quot;, &quot;RelativeHumidity&quot;: 79, &quot;RhMax&quot;: 86.0, &quot;RhMin&quot;: 77.0, &quot;Rn_1&quot;: 0.0, &quot;SnowDepth&quot;: null, &quot;SnowWaterEquivalent&quot;: null, &quot;SolarActiveRadiation&quot;: 52, &quot;SolarRadiation&quot;: 34, &quot;StationName&quot;: &quot;UVic QD1 - 13G&quot;, &quot;Stn_lat&quot;: 48.49100000000001, &quot;Stn_long&quot;: -123.605, &quot;TFuel&quot;: 5.7, &quot;TMax&quot;: 6.6, &quot;TMin&quot;: 6.2, &quot;TSdeep&quot;: 10.2, &quot;TSshal&quot;: 9.3, &quot;Vbatt&quot;: 12.7, &quot;Vtx&quot;: 12.0, &quot;WindDirection&quot;: 149, &quot;WindSpeed&quot;: 4.6, &quot;Wspd_1&quot;: 3.4}, &quot;type&quot;: &quot;Feature&quot;}, {&quot;geometry&quot;: {&quot;coordinates&quot;: [-123.72399999999999, 48.615], &quot;type&quot;: &quot;Point&quot;}, &quot;id&quot;: &quot;10&quot;, &quot;properties&quot;: {&quot;AirTemperature&quot;: null, &quot;BarometricPressure&quot;: null, &quot;CSdeep&quot;: 0.0, &quot;CSshal&quot;: 0.0, &quot;DataErrors&quot;: null, &quot;DateTime&quot;: &quot;2022-Oct-31 22:00:00&quot;, &quot;DateTimeString&quot;: null, &quot;MFuel&quot;: 26.0, &quot;MSdeep&quot;: 0.15, &quot;MSshal&quot;: 0.07, &quot;Mx_Dir&quot;: 55.0, &quot;Mx_Spd&quot;: 10.8, &quot;Precipitation&quot;: null, &quot;Rain&quot;: 65.4, &quot;RecordID&quot;: &quot;7348&quot;, &quot;RelativeHumidity&quot;: 3, &quot;RhMax&quot;: 3.0, &quot;RhMin&quot;: 3.0, &quot;Rn_1&quot;: 0.0, &quot;SnowDepth&quot;: null, &quot;SnowWaterEquivalent&quot;: null, &quot;SolarActiveRadiation&quot;: 43, &quot;SolarRadiation&quot;: 30, &quot;StationName&quot;: &quot;UVic QD2 - 9S8&quot;, &quot;Stn_lat&quot;: 48.615, &quot;Stn_long&quot;: -123.72399999999999, &quot;TFuel&quot;: 5.4, &quot;TMax&quot;: null, &quot;TMin&quot;: null, &quot;TSdeep&quot;: 10.6, &quot;TSshal&quot;: 9.9, &quot;Vbatt&quot;: 12.0, &quot;Vtx&quot;: 11.4, &quot;WindDirection&quot;: 65, &quot;WindSpeed&quot;: 4.9, &quot;Wspd_1&quot;: 4.6}, &quot;type&quot;: &quot;Feature&quot;}], &quot;type&quot;: &quot;FeatureCollection&quot;});\n",
       "\n",
       "        \n",
       "&lt;/script&gt;\" style=\"position:absolute;width:100%;height:100%;left:0;top:0;border:none !important;\" allowfullscreen webkitallowfullscreen mozallowfullscreen></iframe></div></div>"
      ],
      "text/plain": [
       "<folium.folium.Map at 0x7feaf9366d90>"
      ]
     },
     "execution_count": 12,
     "metadata": {},
     "output_type": "execute_result"
    }
   ],
   "source": [
    "osm_map.add_child(points)\n",
    "osm_map"
   ]
  },
  {
   "cell_type": "markdown",
   "metadata": {
    "id": "L5jFrzelwi3Z"
   },
   "source": [
    "## **Reproject a spatial layer with Python**\n",
    "\n",
    "To reproject a layer, the layer must have its coordinate reference system (CRS) defined, otherwise it's not possible to do the reprojection.\n",
    "\n",
    "Check whether the GeoDataFrame has a defined CRS:"
   ]
  },
  {
   "cell_type": "code",
   "execution_count": 13,
   "metadata": {
    "id": "53Sfw9wn9E8Z"
   },
   "outputs": [],
   "source": [
    "stations.crs"
   ]
  },
  {
   "cell_type": "code",
   "execution_count": 14,
   "metadata": {
    "id": "jIcvHtpWQ7xs"
   },
   "outputs": [
    {
     "data": {
      "text/plain": [
       "True"
      ]
     },
     "execution_count": 14,
     "metadata": {},
     "output_type": "execute_result"
    }
   ],
   "source": [
    "stations.crs is None"
   ]
  },
  {
   "cell_type": "markdown",
   "metadata": {
    "id": "KQp4XLIv-FKe"
   },
   "source": [
    "If a layer does not have a CRS defined yet, use the `set_crs()` method to define it appropriately: "
   ]
  },
  {
   "cell_type": "code",
   "execution_count": 15,
   "metadata": {
    "id": "ApprbT2k-FUG"
   },
   "outputs": [
    {
     "data": {
      "text/plain": [
       "<Geographic 2D CRS: EPSG:4326>\n",
       "Name: WGS 84\n",
       "Axis Info [ellipsoidal]:\n",
       "- Lat[north]: Geodetic latitude (degree)\n",
       "- Lon[east]: Geodetic longitude (degree)\n",
       "Area of Use:\n",
       "- name: World.\n",
       "- bounds: (-180.0, -90.0, 180.0, 90.0)\n",
       "Datum: World Geodetic System 1984 ensemble\n",
       "- Ellipsoid: WGS 84\n",
       "- Prime Meridian: Greenwich"
      ]
     },
     "execution_count": 15,
     "metadata": {},
     "output_type": "execute_result"
    }
   ],
   "source": [
    "stations = stations.set_crs(4326)\n",
    "stations.crs"
   ]
  },
  {
   "cell_type": "markdown",
   "metadata": {
    "id": "rFkAGtUx9FFU"
   },
   "source": [
    "Reproject the `stations` layer to a different CRS using `to_crs()` for example entering an EPSG code for the desired reprojection (e.g., 'EPSG:3117'):"
   ]
  },
  {
   "cell_type": "code",
   "execution_count": 16,
   "metadata": {
    "id": "bCVDLlQRwjED"
   },
   "outputs": [],
   "source": [
    "#stations_epsg3117 = stations.to_crs('EPSG:3117')\n",
    "#stations_epsg3117.crs"
   ]
  },
  {
   "cell_type": "markdown",
   "metadata": {
    "id": "x-Em1dAwwjWt"
   },
   "source": [
    "## **Export a GeoDataFrame to common GIS formats**\n",
    "\n",
    "Use the `to_file()` method from geopandas to write a GeoDataFrame to a file in any of more than 20 possible formats including GeoPackage, GeoJSON, GML, ESRI Shapefile, and others:"
   ]
  },
  {
   "cell_type": "code",
   "execution_count": 17,
   "metadata": {
    "id": "bV07PMsUwjgW"
   },
   "outputs": [
    {
     "name": "stderr",
     "output_type": "stream",
     "text": [
      "<ipython-input-17-9fa353121651>:1: UserWarning: Column names longer than 10 characters will be truncated when saved to ESRI Shapefile.\n",
      "  stations.to_file('exported_file.shp')\n"
     ]
    }
   ],
   "source": [
    "stations.to_file('exported_file.shp')"
   ]
  }
 ],
 "metadata": {
  "colab": {
   "collapsed_sections": [],
   "name": "py-spatial_001.ipynb",
   "provenance": []
  },
  "kernelspec": {
   "display_name": "Python 3.8.2 ('base')",
   "language": "python",
   "name": "python3"
  },
  "language_info": {
   "codemirror_mode": {
    "name": "ipython",
    "version": 3
   },
   "file_extension": ".py",
   "mimetype": "text/x-python",
   "name": "python",
   "nbconvert_exporter": "python",
   "pygments_lexer": "ipython3",
   "version": "3.8.2"
  },
  "vscode": {
   "interpreter": {
    "hash": "e3e7aca799fa31bfa2d36f08a3f757ca3b190022686184de1ec5e0844386beee"
   }
  }
 },
 "nbformat": 4,
 "nbformat_minor": 1
}
